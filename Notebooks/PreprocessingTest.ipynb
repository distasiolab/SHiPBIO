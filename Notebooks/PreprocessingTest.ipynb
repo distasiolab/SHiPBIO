{
 "cells": [
  {
   "cell_type": "code",
   "execution_count": 1,
   "id": "810de972-90eb-45f1-9419-81ea9d063cab",
   "metadata": {},
   "outputs": [
    {
     "name": "stderr",
     "output_type": "stream",
     "text": [
      "/home/mdistasio/miniconda3/envs/scvi/lib/python3.10/site-packages/scvi/_settings.py:63: UserWarning: Since v1.0.0, scvi-tools no longer uses a random seed by default. Run `scvi.settings.seed = 0` to reproduce results from previous versions.\n",
      "  self.seed = seed\n",
      "/home/mdistasio/miniconda3/envs/scvi/lib/python3.10/site-packages/scvi/_settings.py:70: UserWarning: Setting `dl_pin_memory_gpu_training` is deprecated in v1.0 and will be removed in v1.1. Please pass in `pin_memory` to the data loaders instead.\n",
      "  self.dl_pin_memory_gpu_training = (\n",
      "/home/mdistasio/miniconda3/envs/scvi/lib/python3.10/site-packages/tqdm/auto.py:21: TqdmWarning: IProgress not found. Please update jupyter and ipywidgets. See https://ipywidgets.readthedocs.io/en/stable/user_install.html\n",
      "  from .autonotebook import tqdm as notebook_tqdm\n"
     ]
    }
   ],
   "source": [
    "import anndata as ad\n",
    "import squidpy as sq\n",
    "import scanpy as sc\n",
    "import scvi\n",
    "from scvi.model import CondSCVI, DestVI\n",
    "\n",
    "import numpy as np\n",
    "import os\n",
    "\n",
    "from matplotlib import pyplot as plt"
   ]
  },
  {
   "cell_type": "code",
   "execution_count": 2,
   "id": "4b1ba72c-5492-4855-83d0-9c50d716fe66",
   "metadata": {},
   "outputs": [],
   "source": [
    "#FILEPATHBASE = '/Users/mmd47/Library/CloudStorage/GoogleDrive-mmd47@yale.edu/My Drive/DiStasio Lab/DiStasio Lab Share/'\n",
    "FILEPATHBASE = '/home/mdistasio/YaleGoogleDrive/DiStasio Lab/DiStasio Lab Share/'"
   ]
  },
  {
   "cell_type": "code",
   "execution_count": 3,
   "id": "865adbe7-8c75-4775-9d51-abf0a3ef8f62",
   "metadata": {},
   "outputs": [
    {
     "name": "stdout",
     "output_type": "stream",
     "text": [
      "Loading data files and selecting annotated regions...\n"
     ]
    }
   ],
   "source": [
    "print('Loading data files and selecting annotated regions...')                                                                                                                                                                                                                               \n",
    "                                                                                                                                                                                                                                                                                             \n",
    "# File 1                                                                                                                                                                                                                                                                                     \n",
    "filename = os.path.join(FILEPATHBASE,'03 Data','Retina_SlideSeq_Curio','A22_3781_AMD_SlideSeq_001','A0052_029_anndata_annotated.h5ad')                                                                                                                                                       \n",
    "adata = ad.read_h5ad(filename)                                                                                                                                                                                                                                                               \n",
    "                                                                                                                                                                                                                                                                                             \n",
    "library_id = 'A22_3781'                                                                                                                                                                                                                                                                      \n",
    "adata.uns[\"spatial\"] = dict()                                                                                                                                                                                                                                                                \n",
    "adata.uns[\"spatial\"][library_id] = dict()                                                                                                                                                                                                                                                    \n",
    "retina1 = adata[adata.obs['Retina_1']]                                                                                                                                                                                                                                                       \n",
    "retina2 = adata[adata.obs['Retina_2']]                                                                                                                                                                                                                                                       \n",
    "                                                                                                                                                                                                                                                                                             \n",
    "# File 2                                                                                                                                                                                                                                                                                     \n",
    "filename = os.path.join(FILEPATHBASE,'03 Data/Retina_SlideSeq_Curio/A23-914_OS_Ctrl_SlideSeq_001/A0052_030_anndata_annotated.h5ad')                                                                                                                                                          \n",
    "adata = ad.read_h5ad(filename)                                                                                                                                                                                                                                                               \n",
    "                                                                                                                                                                                                                                                                                             \n",
    "library_id = 'A23-914'                                                                                                                                                                                                                                                                       \n",
    "adata.uns[\"spatial\"] = dict()                                                                                                                                                                                                                                                                \n",
    "adata.uns[\"spatial\"][library_id] = dict()                                                                                                                                                                                                                                                    \n",
    "retina3 = adata[adata.obs['Retina']]                                                                                                                                                                                                                                                         \n",
    "                                                                                                                                                                                                                                                                                             \n",
    "# File 3                                                                                                                                                                                                                                                                                     \n",
    "filename = os.path.join(FILEPATHBASE,'03 Data/Retina_SlideSeq_Curio/A23-1277_AMD_SlideSeq_001/OUTPUT/A23-1277-OS_macula/A23-1277-OS_macula_anndata_annotated.h5ad')                                                                                                                          \n",
    "adata = ad.read_h5ad(filename)                                                                                                                                                                                                                                                               \n",
    "                                                                                                                                                                                                                                                                                             \n",
    "library_id = 'A23-1277'                                                                                                                                                                                                                                                                      \n",
    "adata.uns[\"spatial\"] = dict()                                                                                                                                                                                                                                                                \n",
    "adata.uns[\"spatial\"][library_id] = dict()                                                                                                                                                                                                                                                    \n",
    "retina4 = adata[adata.obs['Retina']]                                                                                                                                                                                                                                                         \n",
    "                                                                                                                                                                                                                                                                                             \n",
    "# File 4                                                                                                                                                                                                                                                                                     \n",
    "filename = os.path.join(FILEPATHBASE,'03 Data/Retina_SlideSeq_Curio/A23-1279-OS_SlideSeq_001/23-1279-OS_OUTPUT/OUTPUT/A23-1279-OS_macula/A23-1279-OS_macula_anndata_annotated.h5ad')                                                                                                         \n",
    "adata = ad.read_h5ad(filename)                                                                                                                                                                                                                                                               \n",
    "                                                                                                                                                                                                                                                                                             \n",
    "library_id = 'A23-1279'                                                                                                                                                                                                                                                                      \n",
    "adata.uns[\"spatial\"] = dict()                                                                                                                                                                                                                                                                \n",
    "adata.uns[\"spatial\"][library_id] = dict()                                                                                                                                                                                                                                                    \n",
    "retina5 = adata[adata.obs['Retina']]    "
   ]
  },
  {
   "cell_type": "code",
   "execution_count": 4,
   "id": "3f3eb200-a97b-41b1-9b7c-4369fc69d325",
   "metadata": {},
   "outputs": [
    {
     "name": "stdout",
     "output_type": "stream",
     "text": [
      "2806.0\n",
      "-5342.0\n",
      "True\n",
      "-4440.0\n"
     ]
    }
   ],
   "source": [
    "print(np.max(retina1.obsm['spatial']))\n",
    "print(np.min(retina1.obsm['spatial']))\n",
    "print(np.all(np.isfinite(retina1.obsm['spatial'])))\n",
    "print(np.min(retina1.obsm['spatial'].sum(1)))"
   ]
  },
  {
   "cell_type": "code",
   "execution_count": null,
   "id": "e316a5e9-0b00-4cd0-8880-e9bf2a11ea51",
   "metadata": {},
   "outputs": [],
   "source": [
    "print(np.max(retina1.X))\n",
    "print(np.min(retina1.X))\n",
    "print(np.all(np.isfinite(retina1.X)))\n",
    "print(np.min(retina1.X.sum(1)))"
   ]
  }
 ],
 "metadata": {
  "kernelspec": {
   "display_name": "Python 3 (ipykernel)",
   "language": "python",
   "name": "python3"
  },
  "language_info": {
   "codemirror_mode": {
    "name": "ipython",
    "version": 3
   },
   "file_extension": ".py",
   "mimetype": "text/x-python",
   "name": "python",
   "nbconvert_exporter": "python",
   "pygments_lexer": "ipython3",
   "version": "3.10.13"
  }
 },
 "nbformat": 4,
 "nbformat_minor": 5
}
