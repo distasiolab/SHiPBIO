{
 "cells": [
  {
   "cell_type": "code",
   "execution_count": 1,
   "id": "6cccb817",
   "metadata": {},
   "outputs": [],
   "source": [
    "import anndata as ad\n",
    "import squidpy as sq"
   ]
  },
  {
   "cell_type": "code",
   "execution_count": null,
   "id": "61a38f79",
   "metadata": {},
   "outputs": [],
   "source": [
    "/Users/mmd47/Google Drive/My Drive/DiStasio Lab Share/03 Data/Retina_SlideSeq_Curio/A22_3781_AMD_SlideSeq_001"
   ]
  }
 ],
 "metadata": {
  "kernelspec": {
   "display_name": "Python 3 (ipykernel)",
   "language": "python",
   "name": "python3"
  },
  "language_info": {
   "codemirror_mode": {
    "name": "ipython",
    "version": 3
   },
   "file_extension": ".py",
   "mimetype": "text/x-python",
   "name": "python",
   "nbconvert_exporter": "python",
   "pygments_lexer": "ipython3",
   "version": "3.11.5"
  }
 },
 "nbformat": 4,
 "nbformat_minor": 5
}
